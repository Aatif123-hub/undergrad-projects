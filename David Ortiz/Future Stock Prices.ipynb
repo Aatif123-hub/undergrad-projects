{
 "cells": [
  {
   "cell_type": "code",
   "execution_count": 1,
   "id": "9ce0e2e4-fd1b-4756-818f-39ce8a44f28d",
   "metadata": {},
   "outputs": [
    {
     "data": {
      "text/html": [
       "<div>\n",
       "<style scoped>\n",
       "    .dataframe tbody tr th:only-of-type {\n",
       "        vertical-align: middle;\n",
       "    }\n",
       "\n",
       "    .dataframe tbody tr th {\n",
       "        vertical-align: top;\n",
       "    }\n",
       "\n",
       "    .dataframe thead th {\n",
       "        text-align: right;\n",
       "    }\n",
       "</style>\n",
       "<table border=\"1\" class=\"dataframe\">\n",
       "  <thead>\n",
       "    <tr style=\"text-align: right;\">\n",
       "      <th></th>\n",
       "      <th>Date</th>\n",
       "      <th>Open</th>\n",
       "      <th>High</th>\n",
       "      <th>Low</th>\n",
       "      <th>Close</th>\n",
       "      <th>Adj Close</th>\n",
       "      <th>Volume</th>\n",
       "    </tr>\n",
       "  </thead>\n",
       "  <tbody>\n",
       "    <tr>\n",
       "      <th>0</th>\n",
       "      <td>1980-12-12</td>\n",
       "      <td>0.513393</td>\n",
       "      <td>0.515625</td>\n",
       "      <td>0.513393</td>\n",
       "      <td>0.513393</td>\n",
       "      <td>0.406782</td>\n",
       "      <td>117258400</td>\n",
       "    </tr>\n",
       "    <tr>\n",
       "      <th>1</th>\n",
       "      <td>1980-12-15</td>\n",
       "      <td>0.488839</td>\n",
       "      <td>0.488839</td>\n",
       "      <td>0.486607</td>\n",
       "      <td>0.486607</td>\n",
       "      <td>0.385558</td>\n",
       "      <td>43971200</td>\n",
       "    </tr>\n",
       "    <tr>\n",
       "      <th>2</th>\n",
       "      <td>1980-12-16</td>\n",
       "      <td>0.453125</td>\n",
       "      <td>0.453125</td>\n",
       "      <td>0.450893</td>\n",
       "      <td>0.450893</td>\n",
       "      <td>0.357260</td>\n",
       "      <td>26432000</td>\n",
       "    </tr>\n",
       "    <tr>\n",
       "      <th>3</th>\n",
       "      <td>1980-12-17</td>\n",
       "      <td>0.462054</td>\n",
       "      <td>0.464286</td>\n",
       "      <td>0.462054</td>\n",
       "      <td>0.462054</td>\n",
       "      <td>0.366103</td>\n",
       "      <td>21610400</td>\n",
       "    </tr>\n",
       "    <tr>\n",
       "      <th>4</th>\n",
       "      <td>1980-12-18</td>\n",
       "      <td>0.475446</td>\n",
       "      <td>0.477679</td>\n",
       "      <td>0.475446</td>\n",
       "      <td>0.475446</td>\n",
       "      <td>0.376715</td>\n",
       "      <td>18362400</td>\n",
       "    </tr>\n",
       "    <tr>\n",
       "      <th>...</th>\n",
       "      <td>...</td>\n",
       "      <td>...</td>\n",
       "      <td>...</td>\n",
       "      <td>...</td>\n",
       "      <td>...</td>\n",
       "      <td>...</td>\n",
       "      <td>...</td>\n",
       "    </tr>\n",
       "    <tr>\n",
       "      <th>9904</th>\n",
       "      <td>2020-03-26</td>\n",
       "      <td>246.520004</td>\n",
       "      <td>258.679993</td>\n",
       "      <td>246.360001</td>\n",
       "      <td>258.440002</td>\n",
       "      <td>258.440002</td>\n",
       "      <td>63021800</td>\n",
       "    </tr>\n",
       "    <tr>\n",
       "      <th>9905</th>\n",
       "      <td>2020-03-27</td>\n",
       "      <td>252.750000</td>\n",
       "      <td>255.869995</td>\n",
       "      <td>247.050003</td>\n",
       "      <td>247.740005</td>\n",
       "      <td>247.740005</td>\n",
       "      <td>51054200</td>\n",
       "    </tr>\n",
       "    <tr>\n",
       "      <th>9906</th>\n",
       "      <td>2020-03-30</td>\n",
       "      <td>250.740005</td>\n",
       "      <td>255.520004</td>\n",
       "      <td>249.399994</td>\n",
       "      <td>254.809998</td>\n",
       "      <td>254.809998</td>\n",
       "      <td>41994100</td>\n",
       "    </tr>\n",
       "    <tr>\n",
       "      <th>9907</th>\n",
       "      <td>2020-03-31</td>\n",
       "      <td>255.600006</td>\n",
       "      <td>262.489990</td>\n",
       "      <td>252.000000</td>\n",
       "      <td>254.289993</td>\n",
       "      <td>254.289993</td>\n",
       "      <td>49250500</td>\n",
       "    </tr>\n",
       "    <tr>\n",
       "      <th>9908</th>\n",
       "      <td>2020-04-01</td>\n",
       "      <td>246.500000</td>\n",
       "      <td>248.720001</td>\n",
       "      <td>239.130005</td>\n",
       "      <td>240.910004</td>\n",
       "      <td>240.910004</td>\n",
       "      <td>43956200</td>\n",
       "    </tr>\n",
       "  </tbody>\n",
       "</table>\n",
       "<p>9909 rows × 7 columns</p>\n",
       "</div>"
      ],
      "text/plain": [
       "            Date        Open        High         Low       Close   Adj Close  \\\n",
       "0     1980-12-12    0.513393    0.515625    0.513393    0.513393    0.406782   \n",
       "1     1980-12-15    0.488839    0.488839    0.486607    0.486607    0.385558   \n",
       "2     1980-12-16    0.453125    0.453125    0.450893    0.450893    0.357260   \n",
       "3     1980-12-17    0.462054    0.464286    0.462054    0.462054    0.366103   \n",
       "4     1980-12-18    0.475446    0.477679    0.475446    0.475446    0.376715   \n",
       "...          ...         ...         ...         ...         ...         ...   \n",
       "9904  2020-03-26  246.520004  258.679993  246.360001  258.440002  258.440002   \n",
       "9905  2020-03-27  252.750000  255.869995  247.050003  247.740005  247.740005   \n",
       "9906  2020-03-30  250.740005  255.520004  249.399994  254.809998  254.809998   \n",
       "9907  2020-03-31  255.600006  262.489990  252.000000  254.289993  254.289993   \n",
       "9908  2020-04-01  246.500000  248.720001  239.130005  240.910004  240.910004   \n",
       "\n",
       "         Volume  \n",
       "0     117258400  \n",
       "1      43971200  \n",
       "2      26432000  \n",
       "3      21610400  \n",
       "4      18362400  \n",
       "...         ...  \n",
       "9904   63021800  \n",
       "9905   51054200  \n",
       "9906   41994100  \n",
       "9907   49250500  \n",
       "9908   43956200  \n",
       "\n",
       "[9909 rows x 7 columns]"
      ]
     },
     "execution_count": 1,
     "metadata": {},
     "output_type": "execute_result"
    }
   ],
   "source": [
    "import pandas as pd\n",
    "import numpy as np\n",
    "import matplotlib.pyplot as plt\n",
    "from sklearn.preprocessing import MinMaxScaler\n",
    "from sklearn.metrics import mean_squared_error, mean_absolute_error\n",
    "from tensorflow.keras.models import Sequential\n",
    "from tensorflow.keras.layers import Dense, Embedding, LSTM, Dropout\n",
    "\n",
    "stock_info = pd.read_csv(\"AAPL.csv\", header = 0)\n",
    "#Load the file into the program\n",
    "stock_info"
   ]
  },
  {
   "cell_type": "code",
   "execution_count": 2,
   "id": "bd86e8f3-1cd0-4eb8-9b95-cf2c6125744e",
   "metadata": {},
   "outputs": [
    {
     "name": "stdout",
     "output_type": "stream",
     "text": [
      "Date         0\n",
      "Open         0\n",
      "High         0\n",
      "Low          0\n",
      "Close        0\n",
      "Adj Close    0\n",
      "Volume       0\n",
      "dtype: int64\n"
     ]
    }
   ],
   "source": [
    "#Checking for missing values\n",
    "missing_data = stock_info.isnull().sum()\n",
    "print(missing_data)"
   ]
  },
  {
   "cell_type": "code",
   "execution_count": 3,
   "id": "44fcee4b-bea5-4c98-a886-1a98ed429acc",
   "metadata": {},
   "outputs": [
    {
     "name": "stdout",
     "output_type": "stream",
     "text": [
      "<class 'pandas.core.frame.DataFrame'>\n",
      "RangeIndex: 9909 entries, 0 to 9908\n",
      "Data columns (total 7 columns):\n",
      " #   Column     Non-Null Count  Dtype  \n",
      "---  ------     --------------  -----  \n",
      " 0   Date       9909 non-null   object \n",
      " 1   Open       9909 non-null   float64\n",
      " 2   High       9909 non-null   float64\n",
      " 3   Low        9909 non-null   float64\n",
      " 4   Close      9909 non-null   float64\n",
      " 5   Adj Close  9909 non-null   float64\n",
      " 6   Volume     9909 non-null   int64  \n",
      "dtypes: float64(5), int64(1), object(1)\n",
      "memory usage: 542.0+ KB\n"
     ]
    }
   ],
   "source": [
    "#converting Date object class to datetime class\n",
    "stock_info.info()"
   ]
  },
  {
   "cell_type": "code",
   "execution_count": 4,
   "id": "1d945d50-2e9a-41b0-8704-58ed5549615f",
   "metadata": {},
   "outputs": [],
   "source": [
    "stock_info['Date'] = pd.to_datetime(stock_info['Date'])"
   ]
  },
  {
   "cell_type": "code",
   "execution_count": 5,
   "id": "d5e9e26c-b507-4155-b8a7-1c870ffe1110",
   "metadata": {},
   "outputs": [
    {
     "name": "stdout",
     "output_type": "stream",
     "text": [
      "<class 'pandas.core.frame.DataFrame'>\n",
      "RangeIndex: 9909 entries, 0 to 9908\n",
      "Data columns (total 7 columns):\n",
      " #   Column     Non-Null Count  Dtype         \n",
      "---  ------     --------------  -----         \n",
      " 0   Date       9909 non-null   datetime64[ns]\n",
      " 1   Open       9909 non-null   float64       \n",
      " 2   High       9909 non-null   float64       \n",
      " 3   Low        9909 non-null   float64       \n",
      " 4   Close      9909 non-null   float64       \n",
      " 5   Adj Close  9909 non-null   float64       \n",
      " 6   Volume     9909 non-null   int64         \n",
      "dtypes: datetime64[ns](1), float64(5), int64(1)\n",
      "memory usage: 542.0 KB\n"
     ]
    }
   ],
   "source": [
    "stock_info.info()"
   ]
  },
  {
   "cell_type": "code",
   "execution_count": 6,
   "id": "b9fa5a66-5b01-487e-a186-d1cea6feab7f",
   "metadata": {},
   "outputs": [
    {
     "name": "stdout",
     "output_type": "stream",
     "text": [
      "<class 'pandas.core.frame.DataFrame'>\n",
      "DatetimeIndex: 9909 entries, 1980-12-12 to 2020-04-01\n",
      "Data columns (total 6 columns):\n",
      " #   Column     Non-Null Count  Dtype  \n",
      "---  ------     --------------  -----  \n",
      " 0   Open       9909 non-null   float64\n",
      " 1   High       9909 non-null   float64\n",
      " 2   Low        9909 non-null   float64\n",
      " 3   Close      9909 non-null   float64\n",
      " 4   Adj Close  9909 non-null   float64\n",
      " 5   Volume     9909 non-null   int64  \n",
      "dtypes: float64(5), int64(1)\n",
      "memory usage: 541.9 KB\n"
     ]
    }
   ],
   "source": [
    "#Making the Date column the index\n",
    "stock_info.set_index('Date', inplace = True)\n",
    "stock_info.info()"
   ]
  },
  {
   "cell_type": "code",
   "execution_count": 7,
   "id": "ed089f14-54a2-4ec9-8644-4f6b00ab743f",
   "metadata": {},
   "outputs": [
    {
     "data": {
      "text/html": [
       "<div>\n",
       "<style scoped>\n",
       "    .dataframe tbody tr th:only-of-type {\n",
       "        vertical-align: middle;\n",
       "    }\n",
       "\n",
       "    .dataframe tbody tr th {\n",
       "        vertical-align: top;\n",
       "    }\n",
       "\n",
       "    .dataframe thead th {\n",
       "        text-align: right;\n",
       "    }\n",
       "</style>\n",
       "<table border=\"1\" class=\"dataframe\">\n",
       "  <thead>\n",
       "    <tr style=\"text-align: right;\">\n",
       "      <th></th>\n",
       "      <th>Open</th>\n",
       "      <th>High</th>\n",
       "      <th>Low</th>\n",
       "      <th>Close</th>\n",
       "      <th>Adj Close</th>\n",
       "      <th>Volume</th>\n",
       "    </tr>\n",
       "    <tr>\n",
       "      <th>Date</th>\n",
       "      <th></th>\n",
       "      <th></th>\n",
       "      <th></th>\n",
       "      <th></th>\n",
       "      <th></th>\n",
       "      <th></th>\n",
       "    </tr>\n",
       "  </thead>\n",
       "  <tbody>\n",
       "    <tr>\n",
       "      <th>1980-12-12</th>\n",
       "      <td>0.513393</td>\n",
       "      <td>0.515625</td>\n",
       "      <td>0.513393</td>\n",
       "      <td>0.513393</td>\n",
       "      <td>0.406782</td>\n",
       "      <td>117258400</td>\n",
       "    </tr>\n",
       "    <tr>\n",
       "      <th>1980-12-15</th>\n",
       "      <td>0.488839</td>\n",
       "      <td>0.488839</td>\n",
       "      <td>0.486607</td>\n",
       "      <td>0.486607</td>\n",
       "      <td>0.385558</td>\n",
       "      <td>43971200</td>\n",
       "    </tr>\n",
       "    <tr>\n",
       "      <th>1980-12-16</th>\n",
       "      <td>0.453125</td>\n",
       "      <td>0.453125</td>\n",
       "      <td>0.450893</td>\n",
       "      <td>0.450893</td>\n",
       "      <td>0.357260</td>\n",
       "      <td>26432000</td>\n",
       "    </tr>\n",
       "    <tr>\n",
       "      <th>1980-12-17</th>\n",
       "      <td>0.462054</td>\n",
       "      <td>0.464286</td>\n",
       "      <td>0.462054</td>\n",
       "      <td>0.462054</td>\n",
       "      <td>0.366103</td>\n",
       "      <td>21610400</td>\n",
       "    </tr>\n",
       "    <tr>\n",
       "      <th>1980-12-18</th>\n",
       "      <td>0.475446</td>\n",
       "      <td>0.477679</td>\n",
       "      <td>0.475446</td>\n",
       "      <td>0.475446</td>\n",
       "      <td>0.376715</td>\n",
       "      <td>18362400</td>\n",
       "    </tr>\n",
       "  </tbody>\n",
       "</table>\n",
       "</div>"
      ],
      "text/plain": [
       "                Open      High       Low     Close  Adj Close     Volume\n",
       "Date                                                                    \n",
       "1980-12-12  0.513393  0.515625  0.513393  0.513393   0.406782  117258400\n",
       "1980-12-15  0.488839  0.488839  0.486607  0.486607   0.385558   43971200\n",
       "1980-12-16  0.453125  0.453125  0.450893  0.450893   0.357260   26432000\n",
       "1980-12-17  0.462054  0.464286  0.462054  0.462054   0.366103   21610400\n",
       "1980-12-18  0.475446  0.477679  0.475446  0.475446   0.376715   18362400"
      ]
     },
     "execution_count": 7,
     "metadata": {},
     "output_type": "execute_result"
    }
   ],
   "source": [
    "stock_info.head()"
   ]
  },
  {
   "cell_type": "code",
   "execution_count": 8,
   "id": "415ce507-e314-4cdf-9445-66070bf8b627",
   "metadata": {},
   "outputs": [
    {
     "data": {
      "text/html": [
       "<div>\n",
       "<style scoped>\n",
       "    .dataframe tbody tr th:only-of-type {\n",
       "        vertical-align: middle;\n",
       "    }\n",
       "\n",
       "    .dataframe tbody tr th {\n",
       "        vertical-align: top;\n",
       "    }\n",
       "\n",
       "    .dataframe thead th {\n",
       "        text-align: right;\n",
       "    }\n",
       "</style>\n",
       "<table border=\"1\" class=\"dataframe\">\n",
       "  <thead>\n",
       "    <tr style=\"text-align: right;\">\n",
       "      <th></th>\n",
       "      <th>Open</th>\n",
       "      <th>High</th>\n",
       "      <th>Low</th>\n",
       "      <th>Close</th>\n",
       "      <th>Adj Close</th>\n",
       "      <th>Volume</th>\n",
       "    </tr>\n",
       "    <tr>\n",
       "      <th>Date</th>\n",
       "      <th></th>\n",
       "      <th></th>\n",
       "      <th></th>\n",
       "      <th></th>\n",
       "      <th></th>\n",
       "      <th></th>\n",
       "    </tr>\n",
       "  </thead>\n",
       "  <tbody>\n",
       "    <tr>\n",
       "      <th>1980-12-12</th>\n",
       "      <td>0.513393</td>\n",
       "      <td>0.515625</td>\n",
       "      <td>0.513393</td>\n",
       "      <td>0.513393</td>\n",
       "      <td>0.406782</td>\n",
       "      <td>117258400</td>\n",
       "    </tr>\n",
       "    <tr>\n",
       "      <th>1980-12-15</th>\n",
       "      <td>0.488839</td>\n",
       "      <td>0.488839</td>\n",
       "      <td>0.486607</td>\n",
       "      <td>0.486607</td>\n",
       "      <td>0.385558</td>\n",
       "      <td>43971200</td>\n",
       "    </tr>\n",
       "    <tr>\n",
       "      <th>1980-12-16</th>\n",
       "      <td>0.453125</td>\n",
       "      <td>0.453125</td>\n",
       "      <td>0.450893</td>\n",
       "      <td>0.450893</td>\n",
       "      <td>0.357260</td>\n",
       "      <td>26432000</td>\n",
       "    </tr>\n",
       "    <tr>\n",
       "      <th>1980-12-17</th>\n",
       "      <td>0.462054</td>\n",
       "      <td>0.464286</td>\n",
       "      <td>0.462054</td>\n",
       "      <td>0.462054</td>\n",
       "      <td>0.366103</td>\n",
       "      <td>21610400</td>\n",
       "    </tr>\n",
       "    <tr>\n",
       "      <th>1980-12-18</th>\n",
       "      <td>0.475446</td>\n",
       "      <td>0.477679</td>\n",
       "      <td>0.475446</td>\n",
       "      <td>0.475446</td>\n",
       "      <td>0.376715</td>\n",
       "      <td>18362400</td>\n",
       "    </tr>\n",
       "    <tr>\n",
       "      <th>...</th>\n",
       "      <td>...</td>\n",
       "      <td>...</td>\n",
       "      <td>...</td>\n",
       "      <td>...</td>\n",
       "      <td>...</td>\n",
       "      <td>...</td>\n",
       "    </tr>\n",
       "    <tr>\n",
       "      <th>2020-03-26</th>\n",
       "      <td>246.520004</td>\n",
       "      <td>258.679993</td>\n",
       "      <td>246.360001</td>\n",
       "      <td>258.440002</td>\n",
       "      <td>258.440002</td>\n",
       "      <td>63021800</td>\n",
       "    </tr>\n",
       "    <tr>\n",
       "      <th>2020-03-27</th>\n",
       "      <td>252.750000</td>\n",
       "      <td>255.869995</td>\n",
       "      <td>247.050003</td>\n",
       "      <td>247.740005</td>\n",
       "      <td>247.740005</td>\n",
       "      <td>51054200</td>\n",
       "    </tr>\n",
       "    <tr>\n",
       "      <th>2020-03-30</th>\n",
       "      <td>250.740005</td>\n",
       "      <td>255.520004</td>\n",
       "      <td>249.399994</td>\n",
       "      <td>254.809998</td>\n",
       "      <td>254.809998</td>\n",
       "      <td>41994100</td>\n",
       "    </tr>\n",
       "    <tr>\n",
       "      <th>2020-03-31</th>\n",
       "      <td>255.600006</td>\n",
       "      <td>262.489990</td>\n",
       "      <td>252.000000</td>\n",
       "      <td>254.289993</td>\n",
       "      <td>254.289993</td>\n",
       "      <td>49250500</td>\n",
       "    </tr>\n",
       "    <tr>\n",
       "      <th>2020-04-01</th>\n",
       "      <td>246.500000</td>\n",
       "      <td>248.720001</td>\n",
       "      <td>239.130005</td>\n",
       "      <td>240.910004</td>\n",
       "      <td>240.910004</td>\n",
       "      <td>43956200</td>\n",
       "    </tr>\n",
       "  </tbody>\n",
       "</table>\n",
       "<p>9909 rows × 6 columns</p>\n",
       "</div>"
      ],
      "text/plain": [
       "                  Open        High         Low       Close   Adj Close  \\\n",
       "Date                                                                     \n",
       "1980-12-12    0.513393    0.515625    0.513393    0.513393    0.406782   \n",
       "1980-12-15    0.488839    0.488839    0.486607    0.486607    0.385558   \n",
       "1980-12-16    0.453125    0.453125    0.450893    0.450893    0.357260   \n",
       "1980-12-17    0.462054    0.464286    0.462054    0.462054    0.366103   \n",
       "1980-12-18    0.475446    0.477679    0.475446    0.475446    0.376715   \n",
       "...                ...         ...         ...         ...         ...   \n",
       "2020-03-26  246.520004  258.679993  246.360001  258.440002  258.440002   \n",
       "2020-03-27  252.750000  255.869995  247.050003  247.740005  247.740005   \n",
       "2020-03-30  250.740005  255.520004  249.399994  254.809998  254.809998   \n",
       "2020-03-31  255.600006  262.489990  252.000000  254.289993  254.289993   \n",
       "2020-04-01  246.500000  248.720001  239.130005  240.910004  240.910004   \n",
       "\n",
       "               Volume  \n",
       "Date                   \n",
       "1980-12-12  117258400  \n",
       "1980-12-15   43971200  \n",
       "1980-12-16   26432000  \n",
       "1980-12-17   21610400  \n",
       "1980-12-18   18362400  \n",
       "...               ...  \n",
       "2020-03-26   63021800  \n",
       "2020-03-27   51054200  \n",
       "2020-03-30   41994100  \n",
       "2020-03-31   49250500  \n",
       "2020-04-01   43956200  \n",
       "\n",
       "[9909 rows x 6 columns]"
      ]
     },
     "execution_count": 8,
     "metadata": {},
     "output_type": "execute_result"
    }
   ],
   "source": [
    "stock_info.sort_index(inplace = True)\n",
    "stock_info"
   ]
  },
  {
   "cell_type": "code",
   "execution_count": 9,
   "id": "ba95617d-58a0-4297-9699-7e04229dfcde",
   "metadata": {},
   "outputs": [],
   "source": [
    "scaler = MinMaxScaler()\n",
    "scaled_values = scaler.fit_transform(stock_info[stock_info.columns])"
   ]
  },
  {
   "cell_type": "code",
   "execution_count": 10,
   "id": "7ef65655-861a-4741-a0d0-f53c0033afb2",
   "metadata": {},
   "outputs": [
    {
     "data": {
      "text/plain": [
       "array([[9.69775251e-04, 9.67382823e-04, 9.80847252e-04, 9.69299159e-04,\n",
       "        7.67918183e-04, 6.30227653e-02],\n",
       "       [8.94119040e-04, 8.85632201e-04, 8.97958702e-04, 8.87386505e-04,\n",
       "        7.03023637e-04, 2.35161825e-02],\n",
       "       [7.84073585e-04, 7.76631279e-04, 7.87440759e-04, 7.78169755e-04,\n",
       "        6.16497546e-04, 1.40614092e-02],\n",
       "       ...,\n",
       "       [7.71985944e-01, 7.79247048e-01, 7.71161400e-01, 7.78626234e-01,\n",
       "        7.78653845e-01, 2.24503966e-02],\n",
       "       [7.86960927e-01, 8.00519617e-01, 7.79207129e-01, 7.77036025e-01,\n",
       "        7.77063834e-01, 2.63620696e-02],\n",
       "       [7.58921336e-01, 7.58493270e-01, 7.39380879e-01, 7.36119074e-01,\n",
       "        7.36151986e-01, 2.35080965e-02]])"
      ]
     },
     "execution_count": 10,
     "metadata": {},
     "output_type": "execute_result"
    }
   ],
   "source": [
    "scaled_values"
   ]
  },
  {
   "cell_type": "code",
   "execution_count": 11,
   "id": "c8a45a74-f944-4106-8a9a-ff942578e599",
   "metadata": {},
   "outputs": [],
   "source": [
    "stock_scaled = pd.DataFrame(scaled_values, columns = stock_info.columns, index = stock_info.index)"
   ]
  },
  {
   "cell_type": "code",
   "execution_count": 12,
   "id": "0b0cd3d5-a76a-4d1c-9392-fd3e4cfae9de",
   "metadata": {},
   "outputs": [
    {
     "data": {
      "text/html": [
       "<div>\n",
       "<style scoped>\n",
       "    .dataframe tbody tr th:only-of-type {\n",
       "        vertical-align: middle;\n",
       "    }\n",
       "\n",
       "    .dataframe tbody tr th {\n",
       "        vertical-align: top;\n",
       "    }\n",
       "\n",
       "    .dataframe thead th {\n",
       "        text-align: right;\n",
       "    }\n",
       "</style>\n",
       "<table border=\"1\" class=\"dataframe\">\n",
       "  <thead>\n",
       "    <tr style=\"text-align: right;\">\n",
       "      <th></th>\n",
       "      <th>Open</th>\n",
       "      <th>High</th>\n",
       "      <th>Low</th>\n",
       "      <th>Close</th>\n",
       "      <th>Adj Close</th>\n",
       "      <th>Volume</th>\n",
       "    </tr>\n",
       "    <tr>\n",
       "      <th>Date</th>\n",
       "      <th></th>\n",
       "      <th></th>\n",
       "      <th></th>\n",
       "      <th></th>\n",
       "      <th></th>\n",
       "      <th></th>\n",
       "    </tr>\n",
       "  </thead>\n",
       "  <tbody>\n",
       "    <tr>\n",
       "      <th>1980-12-12</th>\n",
       "      <td>0.000970</td>\n",
       "      <td>0.000967</td>\n",
       "      <td>0.000981</td>\n",
       "      <td>0.000969</td>\n",
       "      <td>0.000768</td>\n",
       "      <td>0.063023</td>\n",
       "    </tr>\n",
       "    <tr>\n",
       "      <th>1980-12-15</th>\n",
       "      <td>0.000894</td>\n",
       "      <td>0.000886</td>\n",
       "      <td>0.000898</td>\n",
       "      <td>0.000887</td>\n",
       "      <td>0.000703</td>\n",
       "      <td>0.023516</td>\n",
       "    </tr>\n",
       "    <tr>\n",
       "      <th>1980-12-16</th>\n",
       "      <td>0.000784</td>\n",
       "      <td>0.000777</td>\n",
       "      <td>0.000787</td>\n",
       "      <td>0.000778</td>\n",
       "      <td>0.000616</td>\n",
       "      <td>0.014061</td>\n",
       "    </tr>\n",
       "    <tr>\n",
       "      <th>1980-12-17</th>\n",
       "      <td>0.000812</td>\n",
       "      <td>0.000811</td>\n",
       "      <td>0.000822</td>\n",
       "      <td>0.000812</td>\n",
       "      <td>0.000644</td>\n",
       "      <td>0.011462</td>\n",
       "    </tr>\n",
       "    <tr>\n",
       "      <th>1980-12-18</th>\n",
       "      <td>0.000853</td>\n",
       "      <td>0.000852</td>\n",
       "      <td>0.000863</td>\n",
       "      <td>0.000853</td>\n",
       "      <td>0.000676</td>\n",
       "      <td>0.009711</td>\n",
       "    </tr>\n",
       "    <tr>\n",
       "      <th>...</th>\n",
       "      <td>...</td>\n",
       "      <td>...</td>\n",
       "      <td>...</td>\n",
       "      <td>...</td>\n",
       "      <td>...</td>\n",
       "      <td>...</td>\n",
       "    </tr>\n",
       "    <tr>\n",
       "      <th>2020-03-26</th>\n",
       "      <td>0.758983</td>\n",
       "      <td>0.788891</td>\n",
       "      <td>0.761754</td>\n",
       "      <td>0.789727</td>\n",
       "      <td>0.789753</td>\n",
       "      <td>0.033786</td>\n",
       "    </tr>\n",
       "    <tr>\n",
       "      <th>2020-03-27</th>\n",
       "      <td>0.778179</td>\n",
       "      <td>0.780315</td>\n",
       "      <td>0.763889</td>\n",
       "      <td>0.757006</td>\n",
       "      <td>0.757036</td>\n",
       "      <td>0.027334</td>\n",
       "    </tr>\n",
       "    <tr>\n",
       "      <th>2020-03-30</th>\n",
       "      <td>0.771986</td>\n",
       "      <td>0.779247</td>\n",
       "      <td>0.771161</td>\n",
       "      <td>0.778626</td>\n",
       "      <td>0.778654</td>\n",
       "      <td>0.022450</td>\n",
       "    </tr>\n",
       "    <tr>\n",
       "      <th>2020-03-31</th>\n",
       "      <td>0.786961</td>\n",
       "      <td>0.800520</td>\n",
       "      <td>0.779207</td>\n",
       "      <td>0.777036</td>\n",
       "      <td>0.777064</td>\n",
       "      <td>0.026362</td>\n",
       "    </tr>\n",
       "    <tr>\n",
       "      <th>2020-04-01</th>\n",
       "      <td>0.758921</td>\n",
       "      <td>0.758493</td>\n",
       "      <td>0.739381</td>\n",
       "      <td>0.736119</td>\n",
       "      <td>0.736152</td>\n",
       "      <td>0.023508</td>\n",
       "    </tr>\n",
       "  </tbody>\n",
       "</table>\n",
       "<p>9909 rows × 6 columns</p>\n",
       "</div>"
      ],
      "text/plain": [
       "                Open      High       Low     Close  Adj Close    Volume\n",
       "Date                                                                   \n",
       "1980-12-12  0.000970  0.000967  0.000981  0.000969   0.000768  0.063023\n",
       "1980-12-15  0.000894  0.000886  0.000898  0.000887   0.000703  0.023516\n",
       "1980-12-16  0.000784  0.000777  0.000787  0.000778   0.000616  0.014061\n",
       "1980-12-17  0.000812  0.000811  0.000822  0.000812   0.000644  0.011462\n",
       "1980-12-18  0.000853  0.000852  0.000863  0.000853   0.000676  0.009711\n",
       "...              ...       ...       ...       ...        ...       ...\n",
       "2020-03-26  0.758983  0.788891  0.761754  0.789727   0.789753  0.033786\n",
       "2020-03-27  0.778179  0.780315  0.763889  0.757006   0.757036  0.027334\n",
       "2020-03-30  0.771986  0.779247  0.771161  0.778626   0.778654  0.022450\n",
       "2020-03-31  0.786961  0.800520  0.779207  0.777036   0.777064  0.026362\n",
       "2020-04-01  0.758921  0.758493  0.739381  0.736119   0.736152  0.023508\n",
       "\n",
       "[9909 rows x 6 columns]"
      ]
     },
     "execution_count": 12,
     "metadata": {},
     "output_type": "execute_result"
    }
   ],
   "source": [
    "stock_scaled"
   ]
  },
  {
   "cell_type": "code",
   "execution_count": 13,
   "id": "f20315ce-5b98-4d68-9875-f7b88bc2b237",
   "metadata": {},
   "outputs": [],
   "source": [
    "#Creating the sequential blocks\n",
    "window_size = 120 #Test different time block sizes\n",
    "x = []\n",
    "y = []\n",
    "\n",
    "for i in range(window_size, len(stock_scaled)):\n",
    "    x.append(stock_scaled.iloc[i-window_size:i].values)\n",
    "    y.append(stock_scaled.iloc[i].values)\n",
    "\n",
    "x, y = np.array(x), np.array(y)"
   ]
  },
  {
   "cell_type": "code",
   "execution_count": 14,
   "id": "d7b97d81-b693-48ca-8c1c-29b0b721beac",
   "metadata": {},
   "outputs": [
    {
     "data": {
      "text/plain": [
       "((9789, 120, 6), (9789, 6))"
      ]
     },
     "execution_count": 14,
     "metadata": {},
     "output_type": "execute_result"
    }
   ],
   "source": [
    "x.shape, y.shape"
   ]
  },
  {
   "cell_type": "code",
   "execution_count": 15,
   "id": "5ef0cc4a-d935-4d0e-ba38-8bc12197f02b",
   "metadata": {},
   "outputs": [
    {
     "data": {
      "text/plain": [
       "((9789, 120, 6), (7831, 120, 6), (1958, 120, 6))"
      ]
     },
     "execution_count": 15,
     "metadata": {},
     "output_type": "execute_result"
    }
   ],
   "source": [
    "#Setting up the training/testing data sets, 80/20 split\n",
    "split = int(0.8 * len(x))\n",
    "x_train, x_test = x[:split], x[split:]\n",
    "y_train, y_test = y[:split], y[split:]\n",
    "x.shape, x_train.shape, x_test.shape"
   ]
  },
  {
   "cell_type": "code",
   "execution_count": 16,
   "id": "50344783-f7b0-42cb-8645-23712e1d2aa3",
   "metadata": {},
   "outputs": [
    {
     "name": "stderr",
     "output_type": "stream",
     "text": [
      "C:\\Users\\david\\anaconda3\\Lib\\site-packages\\keras\\src\\layers\\rnn\\rnn.py:204: UserWarning: Do not pass an `input_shape`/`input_dim` argument to a layer. When using Sequential models, prefer using an `Input(shape)` object as the first layer in the model instead.\n",
      "  super().__init__(**kwargs)\n"
     ]
    }
   ],
   "source": [
    "#Setting up the model\n",
    "model = Sequential()\n",
    "model.add(LSTM(units=50, return_sequences=True, input_shape=(x_train.shape[1], x_train.shape[2])))\n",
    "model.add(Dropout(0.4))\n",
    "\n",
    "model.add(LSTM(units=50, return_sequences=True))\n",
    "model.add(Dropout(0.3))\n",
    "\n",
    "model.add(LSTM(units=50, return_sequences=True))\n",
    "model.add(Dropout(0.3))\n",
    "\n",
    "model.add(LSTM(units=40))\n",
    "model.add(Dropout(0.2))\n",
    "\n",
    "model.add(Dense(units=6)) #Six neurons for six columns"
   ]
  },
  {
   "cell_type": "code",
   "execution_count": 17,
   "id": "6499b2b0-2aee-4a0b-b6f0-8c6f57b3fd39",
   "metadata": {},
   "outputs": [
    {
     "data": {
      "text/html": [
       "<pre style=\"white-space:pre;overflow-x:auto;line-height:normal;font-family:Menlo,'DejaVu Sans Mono',consolas,'Courier New',monospace\"><span style=\"font-weight: bold\">Model: \"sequential\"</span>\n",
       "</pre>\n"
      ],
      "text/plain": [
       "\u001b[1mModel: \"sequential\"\u001b[0m\n"
      ]
     },
     "metadata": {},
     "output_type": "display_data"
    },
    {
     "data": {
      "text/html": [
       "<pre style=\"white-space:pre;overflow-x:auto;line-height:normal;font-family:Menlo,'DejaVu Sans Mono',consolas,'Courier New',monospace\">┏━━━━━━━━━━━━━━━━━━━━━━━━━━━━━━━━━━━━━━┳━━━━━━━━━━━━━━━━━━━━━━━━━━━━━┳━━━━━━━━━━━━━━━━━┓\n",
       "┃<span style=\"font-weight: bold\"> Layer (type)                         </span>┃<span style=\"font-weight: bold\"> Output Shape                </span>┃<span style=\"font-weight: bold\">         Param # </span>┃\n",
       "┡━━━━━━━━━━━━━━━━━━━━━━━━━━━━━━━━━━━━━━╇━━━━━━━━━━━━━━━━━━━━━━━━━━━━━╇━━━━━━━━━━━━━━━━━┩\n",
       "│ lstm (<span style=\"color: #0087ff; text-decoration-color: #0087ff\">LSTM</span>)                          │ (<span style=\"color: #00d7ff; text-decoration-color: #00d7ff\">None</span>, <span style=\"color: #00af00; text-decoration-color: #00af00\">120</span>, <span style=\"color: #00af00; text-decoration-color: #00af00\">50</span>)             │          <span style=\"color: #00af00; text-decoration-color: #00af00\">11,400</span> │\n",
       "├──────────────────────────────────────┼─────────────────────────────┼─────────────────┤\n",
       "│ dropout (<span style=\"color: #0087ff; text-decoration-color: #0087ff\">Dropout</span>)                    │ (<span style=\"color: #00d7ff; text-decoration-color: #00d7ff\">None</span>, <span style=\"color: #00af00; text-decoration-color: #00af00\">120</span>, <span style=\"color: #00af00; text-decoration-color: #00af00\">50</span>)             │               <span style=\"color: #00af00; text-decoration-color: #00af00\">0</span> │\n",
       "├──────────────────────────────────────┼─────────────────────────────┼─────────────────┤\n",
       "│ lstm_1 (<span style=\"color: #0087ff; text-decoration-color: #0087ff\">LSTM</span>)                        │ (<span style=\"color: #00d7ff; text-decoration-color: #00d7ff\">None</span>, <span style=\"color: #00af00; text-decoration-color: #00af00\">120</span>, <span style=\"color: #00af00; text-decoration-color: #00af00\">50</span>)             │          <span style=\"color: #00af00; text-decoration-color: #00af00\">20,200</span> │\n",
       "├──────────────────────────────────────┼─────────────────────────────┼─────────────────┤\n",
       "│ dropout_1 (<span style=\"color: #0087ff; text-decoration-color: #0087ff\">Dropout</span>)                  │ (<span style=\"color: #00d7ff; text-decoration-color: #00d7ff\">None</span>, <span style=\"color: #00af00; text-decoration-color: #00af00\">120</span>, <span style=\"color: #00af00; text-decoration-color: #00af00\">50</span>)             │               <span style=\"color: #00af00; text-decoration-color: #00af00\">0</span> │\n",
       "├──────────────────────────────────────┼─────────────────────────────┼─────────────────┤\n",
       "│ lstm_2 (<span style=\"color: #0087ff; text-decoration-color: #0087ff\">LSTM</span>)                        │ (<span style=\"color: #00d7ff; text-decoration-color: #00d7ff\">None</span>, <span style=\"color: #00af00; text-decoration-color: #00af00\">120</span>, <span style=\"color: #00af00; text-decoration-color: #00af00\">50</span>)             │          <span style=\"color: #00af00; text-decoration-color: #00af00\">20,200</span> │\n",
       "├──────────────────────────────────────┼─────────────────────────────┼─────────────────┤\n",
       "│ dropout_2 (<span style=\"color: #0087ff; text-decoration-color: #0087ff\">Dropout</span>)                  │ (<span style=\"color: #00d7ff; text-decoration-color: #00d7ff\">None</span>, <span style=\"color: #00af00; text-decoration-color: #00af00\">120</span>, <span style=\"color: #00af00; text-decoration-color: #00af00\">50</span>)             │               <span style=\"color: #00af00; text-decoration-color: #00af00\">0</span> │\n",
       "├──────────────────────────────────────┼─────────────────────────────┼─────────────────┤\n",
       "│ lstm_3 (<span style=\"color: #0087ff; text-decoration-color: #0087ff\">LSTM</span>)                        │ (<span style=\"color: #00d7ff; text-decoration-color: #00d7ff\">None</span>, <span style=\"color: #00af00; text-decoration-color: #00af00\">40</span>)                  │          <span style=\"color: #00af00; text-decoration-color: #00af00\">14,560</span> │\n",
       "├──────────────────────────────────────┼─────────────────────────────┼─────────────────┤\n",
       "│ dropout_3 (<span style=\"color: #0087ff; text-decoration-color: #0087ff\">Dropout</span>)                  │ (<span style=\"color: #00d7ff; text-decoration-color: #00d7ff\">None</span>, <span style=\"color: #00af00; text-decoration-color: #00af00\">40</span>)                  │               <span style=\"color: #00af00; text-decoration-color: #00af00\">0</span> │\n",
       "├──────────────────────────────────────┼─────────────────────────────┼─────────────────┤\n",
       "│ dense (<span style=\"color: #0087ff; text-decoration-color: #0087ff\">Dense</span>)                        │ (<span style=\"color: #00d7ff; text-decoration-color: #00d7ff\">None</span>, <span style=\"color: #00af00; text-decoration-color: #00af00\">6</span>)                   │             <span style=\"color: #00af00; text-decoration-color: #00af00\">246</span> │\n",
       "└──────────────────────────────────────┴─────────────────────────────┴─────────────────┘\n",
       "</pre>\n"
      ],
      "text/plain": [
       "┏━━━━━━━━━━━━━━━━━━━━━━━━━━━━━━━━━━━━━━┳━━━━━━━━━━━━━━━━━━━━━━━━━━━━━┳━━━━━━━━━━━━━━━━━┓\n",
       "┃\u001b[1m \u001b[0m\u001b[1mLayer (type)                        \u001b[0m\u001b[1m \u001b[0m┃\u001b[1m \u001b[0m\u001b[1mOutput Shape               \u001b[0m\u001b[1m \u001b[0m┃\u001b[1m \u001b[0m\u001b[1m        Param #\u001b[0m\u001b[1m \u001b[0m┃\n",
       "┡━━━━━━━━━━━━━━━━━━━━━━━━━━━━━━━━━━━━━━╇━━━━━━━━━━━━━━━━━━━━━━━━━━━━━╇━━━━━━━━━━━━━━━━━┩\n",
       "│ lstm (\u001b[38;5;33mLSTM\u001b[0m)                          │ (\u001b[38;5;45mNone\u001b[0m, \u001b[38;5;34m120\u001b[0m, \u001b[38;5;34m50\u001b[0m)             │          \u001b[38;5;34m11,400\u001b[0m │\n",
       "├──────────────────────────────────────┼─────────────────────────────┼─────────────────┤\n",
       "│ dropout (\u001b[38;5;33mDropout\u001b[0m)                    │ (\u001b[38;5;45mNone\u001b[0m, \u001b[38;5;34m120\u001b[0m, \u001b[38;5;34m50\u001b[0m)             │               \u001b[38;5;34m0\u001b[0m │\n",
       "├──────────────────────────────────────┼─────────────────────────────┼─────────────────┤\n",
       "│ lstm_1 (\u001b[38;5;33mLSTM\u001b[0m)                        │ (\u001b[38;5;45mNone\u001b[0m, \u001b[38;5;34m120\u001b[0m, \u001b[38;5;34m50\u001b[0m)             │          \u001b[38;5;34m20,200\u001b[0m │\n",
       "├──────────────────────────────────────┼─────────────────────────────┼─────────────────┤\n",
       "│ dropout_1 (\u001b[38;5;33mDropout\u001b[0m)                  │ (\u001b[38;5;45mNone\u001b[0m, \u001b[38;5;34m120\u001b[0m, \u001b[38;5;34m50\u001b[0m)             │               \u001b[38;5;34m0\u001b[0m │\n",
       "├──────────────────────────────────────┼─────────────────────────────┼─────────────────┤\n",
       "│ lstm_2 (\u001b[38;5;33mLSTM\u001b[0m)                        │ (\u001b[38;5;45mNone\u001b[0m, \u001b[38;5;34m120\u001b[0m, \u001b[38;5;34m50\u001b[0m)             │          \u001b[38;5;34m20,200\u001b[0m │\n",
       "├──────────────────────────────────────┼─────────────────────────────┼─────────────────┤\n",
       "│ dropout_2 (\u001b[38;5;33mDropout\u001b[0m)                  │ (\u001b[38;5;45mNone\u001b[0m, \u001b[38;5;34m120\u001b[0m, \u001b[38;5;34m50\u001b[0m)             │               \u001b[38;5;34m0\u001b[0m │\n",
       "├──────────────────────────────────────┼─────────────────────────────┼─────────────────┤\n",
       "│ lstm_3 (\u001b[38;5;33mLSTM\u001b[0m)                        │ (\u001b[38;5;45mNone\u001b[0m, \u001b[38;5;34m40\u001b[0m)                  │          \u001b[38;5;34m14,560\u001b[0m │\n",
       "├──────────────────────────────────────┼─────────────────────────────┼─────────────────┤\n",
       "│ dropout_3 (\u001b[38;5;33mDropout\u001b[0m)                  │ (\u001b[38;5;45mNone\u001b[0m, \u001b[38;5;34m40\u001b[0m)                  │               \u001b[38;5;34m0\u001b[0m │\n",
       "├──────────────────────────────────────┼─────────────────────────────┼─────────────────┤\n",
       "│ dense (\u001b[38;5;33mDense\u001b[0m)                        │ (\u001b[38;5;45mNone\u001b[0m, \u001b[38;5;34m6\u001b[0m)                   │             \u001b[38;5;34m246\u001b[0m │\n",
       "└──────────────────────────────────────┴─────────────────────────────┴─────────────────┘\n"
      ]
     },
     "metadata": {},
     "output_type": "display_data"
    },
    {
     "data": {
      "text/html": [
       "<pre style=\"white-space:pre;overflow-x:auto;line-height:normal;font-family:Menlo,'DejaVu Sans Mono',consolas,'Courier New',monospace\"><span style=\"font-weight: bold\"> Total params: </span><span style=\"color: #00af00; text-decoration-color: #00af00\">66,606</span> (260.18 KB)\n",
       "</pre>\n"
      ],
      "text/plain": [
       "\u001b[1m Total params: \u001b[0m\u001b[38;5;34m66,606\u001b[0m (260.18 KB)\n"
      ]
     },
     "metadata": {},
     "output_type": "display_data"
    },
    {
     "data": {
      "text/html": [
       "<pre style=\"white-space:pre;overflow-x:auto;line-height:normal;font-family:Menlo,'DejaVu Sans Mono',consolas,'Courier New',monospace\"><span style=\"font-weight: bold\"> Trainable params: </span><span style=\"color: #00af00; text-decoration-color: #00af00\">66,606</span> (260.18 KB)\n",
       "</pre>\n"
      ],
      "text/plain": [
       "\u001b[1m Trainable params: \u001b[0m\u001b[38;5;34m66,606\u001b[0m (260.18 KB)\n"
      ]
     },
     "metadata": {},
     "output_type": "display_data"
    },
    {
     "data": {
      "text/html": [
       "<pre style=\"white-space:pre;overflow-x:auto;line-height:normal;font-family:Menlo,'DejaVu Sans Mono',consolas,'Courier New',monospace\"><span style=\"font-weight: bold\"> Non-trainable params: </span><span style=\"color: #00af00; text-decoration-color: #00af00\">0</span> (0.00 B)\n",
       "</pre>\n"
      ],
      "text/plain": [
       "\u001b[1m Non-trainable params: \u001b[0m\u001b[38;5;34m0\u001b[0m (0.00 B)\n"
      ]
     },
     "metadata": {},
     "output_type": "display_data"
    }
   ],
   "source": [
    "model.summary()"
   ]
  },
  {
   "cell_type": "code",
   "execution_count": 18,
   "id": "3be2811e-a33a-43c1-bd64-2b6193e90aa9",
   "metadata": {},
   "outputs": [],
   "source": [
    "model.compile(loss='mean_squared_error', optimizer='adam', metrics=['mean_absolute_error'])"
   ]
  },
  {
   "cell_type": "code",
   "execution_count": 19,
   "id": "59dd4ce7-d6c0-4bcb-92ac-2d2d5ebf96d9",
   "metadata": {},
   "outputs": [
    {
     "name": "stdout",
     "output_type": "stream",
     "text": [
      "Epoch 1/15\n",
      "\u001b[1m245/245\u001b[0m \u001b[32m━━━━━━━━━━━━━━━━━━━━\u001b[0m\u001b[37m\u001b[0m \u001b[1m27s\u001b[0m 85ms/step - loss: 5.8043e-04 - mean_absolute_error: 0.0121 - val_loss: 0.0019 - val_mean_absolute_error: 0.0299\n",
      "Epoch 2/15\n",
      "\u001b[1m245/245\u001b[0m \u001b[32m━━━━━━━━━━━━━━━━━━━━\u001b[0m\u001b[37m\u001b[0m \u001b[1m20s\u001b[0m 82ms/step - loss: 2.9967e-04 - mean_absolute_error: 0.0083 - val_loss: 0.0114 - val_mean_absolute_error: 0.0827\n",
      "Epoch 3/15\n",
      "\u001b[1m245/245\u001b[0m \u001b[32m━━━━━━━━━━━━━━━━━━━━\u001b[0m\u001b[37m\u001b[0m \u001b[1m20s\u001b[0m 82ms/step - loss: 2.7790e-04 - mean_absolute_error: 0.0081 - val_loss: 0.0018 - val_mean_absolute_error: 0.0304\n",
      "Epoch 4/15\n",
      "\u001b[1m245/245\u001b[0m \u001b[32m━━━━━━━━━━━━━━━━━━━━\u001b[0m\u001b[37m\u001b[0m \u001b[1m20s\u001b[0m 82ms/step - loss: 2.7066e-04 - mean_absolute_error: 0.0076 - val_loss: 0.0036 - val_mean_absolute_error: 0.0424\n",
      "Epoch 5/15\n",
      "\u001b[1m245/245\u001b[0m \u001b[32m━━━━━━━━━━━━━━━━━━━━\u001b[0m\u001b[37m\u001b[0m \u001b[1m20s\u001b[0m 81ms/step - loss: 2.6487e-04 - mean_absolute_error: 0.0077 - val_loss: 0.0031 - val_mean_absolute_error: 0.0350\n",
      "Epoch 6/15\n",
      "\u001b[1m245/245\u001b[0m \u001b[32m━━━━━━━━━━━━━━━━━━━━\u001b[0m\u001b[37m\u001b[0m \u001b[1m20s\u001b[0m 82ms/step - loss: 2.5215e-04 - mean_absolute_error: 0.0073 - val_loss: 0.0046 - val_mean_absolute_error: 0.0374\n",
      "Epoch 7/15\n",
      "\u001b[1m245/245\u001b[0m \u001b[32m━━━━━━━━━━━━━━━━━━━━\u001b[0m\u001b[37m\u001b[0m \u001b[1m20s\u001b[0m 81ms/step - loss: 2.4565e-04 - mean_absolute_error: 0.0073 - val_loss: 0.0036 - val_mean_absolute_error: 0.0358\n",
      "Epoch 8/15\n",
      "\u001b[1m245/245\u001b[0m \u001b[32m━━━━━━━━━━━━━━━━━━━━\u001b[0m\u001b[37m\u001b[0m \u001b[1m20s\u001b[0m 82ms/step - loss: 2.7515e-04 - mean_absolute_error: 0.0072 - val_loss: 0.0024 - val_mean_absolute_error: 0.0304\n",
      "Epoch 9/15\n",
      "\u001b[1m245/245\u001b[0m \u001b[32m━━━━━━━━━━━━━━━━━━━━\u001b[0m\u001b[37m\u001b[0m \u001b[1m20s\u001b[0m 82ms/step - loss: 2.5316e-04 - mean_absolute_error: 0.0070 - val_loss: 0.0037 - val_mean_absolute_error: 0.0394\n",
      "Epoch 10/15\n",
      "\u001b[1m245/245\u001b[0m \u001b[32m━━━━━━━━━━━━━━━━━━━━\u001b[0m\u001b[37m\u001b[0m \u001b[1m20s\u001b[0m 82ms/step - loss: 2.3416e-04 - mean_absolute_error: 0.0069 - val_loss: 0.0044 - val_mean_absolute_error: 0.0387\n",
      "Epoch 11/15\n",
      "\u001b[1m245/245\u001b[0m \u001b[32m━━━━━━━━━━━━━━━━━━━━\u001b[0m\u001b[37m\u001b[0m \u001b[1m20s\u001b[0m 82ms/step - loss: 3.2555e-04 - mean_absolute_error: 0.0069 - val_loss: 0.0043 - val_mean_absolute_error: 0.0422\n",
      "Epoch 12/15\n",
      "\u001b[1m245/245\u001b[0m \u001b[32m━━━━━━━━━━━━━━━━━━━━\u001b[0m\u001b[37m\u001b[0m \u001b[1m20s\u001b[0m 82ms/step - loss: 2.2472e-04 - mean_absolute_error: 0.0067 - val_loss: 0.0035 - val_mean_absolute_error: 0.0358\n",
      "Epoch 13/15\n",
      "\u001b[1m245/245\u001b[0m \u001b[32m━━━━━━━━━━━━━━━━━━━━\u001b[0m\u001b[37m\u001b[0m \u001b[1m20s\u001b[0m 82ms/step - loss: 2.1562e-04 - mean_absolute_error: 0.0070 - val_loss: 0.0052 - val_mean_absolute_error: 0.0429\n",
      "Epoch 14/15\n",
      "\u001b[1m245/245\u001b[0m \u001b[32m━━━━━━━━━━━━━━━━━━━━\u001b[0m\u001b[37m\u001b[0m \u001b[1m20s\u001b[0m 82ms/step - loss: 2.3593e-04 - mean_absolute_error: 0.0067 - val_loss: 0.0029 - val_mean_absolute_error: 0.0310\n",
      "Epoch 15/15\n",
      "\u001b[1m245/245\u001b[0m \u001b[32m━━━━━━━━━━━━━━━━━━━━\u001b[0m\u001b[37m\u001b[0m \u001b[1m20s\u001b[0m 82ms/step - loss: 2.0093e-04 - mean_absolute_error: 0.0067 - val_loss: 0.0020 - val_mean_absolute_error: 0.0260\n"
     ]
    },
    {
     "data": {
      "text/plain": [
       "<keras.src.callbacks.history.History at 0x1a0f8555a60>"
      ]
     },
     "execution_count": 19,
     "metadata": {},
     "output_type": "execute_result"
    }
   ],
   "source": [
    "model.fit(x_train, y_train, epochs=15, batch_size=32, validation_data=(x_test, y_test))"
   ]
  },
  {
   "cell_type": "code",
   "execution_count": 20,
   "id": "20438372-b583-4e33-ab88-eb8d26e779ac",
   "metadata": {},
   "outputs": [
    {
     "name": "stdout",
     "output_type": "stream",
     "text": [
      "\u001b[1m62/62\u001b[0m \u001b[32m━━━━━━━━━━━━━━━━━━━━\u001b[0m\u001b[37m\u001b[0m \u001b[1m2s\u001b[0m 31ms/step\n"
     ]
    }
   ],
   "source": [
    "predictions = model.predict(x_test)"
   ]
  },
  {
   "cell_type": "code",
   "execution_count": 21,
   "id": "fa245721-22e8-4b7c-806e-8d1a4f05978b",
   "metadata": {},
   "outputs": [],
   "source": [
    "predictions = scaler.inverse_transform(predictions)\n",
    "actual_close = scaler.inverse_transform(y_test)"
   ]
  },
  {
   "cell_type": "code",
   "execution_count": 22,
   "id": "c09aefc3-d1f0-4e99-af4d-00fc214c02d7",
   "metadata": {},
   "outputs": [
    {
     "data": {
      "image/png": "[encoded data removed]",
      "text/plain": [
       "<Figure size 1400x700 with 6 Axes>"
      ]
     },
     "metadata": {},
     "output_type": "display_data"
    }
   ],
   "source": [
    "plt.figure(figsize = (14, 7))\n",
    "for i, col in enumerate(stock_scaled.columns):\n",
    "    plt.subplot(2, 3, i+1)\n",
    "    plt.plot(actual_close[:,i], color='blue', label = f'Actual {col}')\n",
    "    plt.plot(predictions[:,i], color = 'red', label = f'Predicted {col}')\n",
    "    plt.title(f'{col} Prediction')\n",
    "    plt.xlabel('Time')\n",
    "    plt.ylabel(f'{col} price')\n",
    "    plt.legend()\n",
    "\n",
    "plt.tight_layout()"
   ]
  },
  {
   "cell_type": "code",
   "execution_count": 23,
   "id": "3252b510-8134-411e-a913-8615d88f532c",
   "metadata": {},
   "outputs": [
    {
     "name": "stdout",
     "output_type": "stream",
     "text": [
      "Mean Squared Error (MSE): 636275787953686.4\n",
      "Root Mean Squared Error (RMSE): 25224507.685060702\n",
      "Mean Absolute Error (MAE): 8052983.810060195\n"
     ]
    }
   ],
   "source": [
    "mse = mean_squared_error(actual_close, predictions)\n",
    "rmse = np.sqrt(mse)\n",
    "mae = mean_absolute_error(actual_close, predictions)\n",
    "\n",
    "print(f\"Mean Squared Error (MSE): {mse}\")\n",
    "print(f\"Root Mean Squared Error (RMSE): {rmse}\")\n",
    "print(f\"Mean Absolute Error (MAE): {mae}\")"
   ]
  },
  {
   "cell_type": "code",
   "execution_count": 24,
   "id": "6d89b6cc-f381-4414-ad55-809c3f4fbf6a",
   "metadata": {},
   "outputs": [
    {
     "name": "stdout",
     "output_type": "stream",
     "text": [
      "MAE as % of Average Price: 89.00%\n",
      "RMSE as % of Average Price: 278.78%\n"
     ]
    }
   ],
   "source": [
    "avg_price = np.mean(actual_close)\n",
    "mae_percentage = (mae / avg_price) * 100\n",
    "rmse_percentage = (rmse / avg_price) * 100\n",
    "print(f\"MAE as % of Average Price: {mae_percentage:.2f}%\")\n",
    "print(f\"RMSE as % of Average Price: {rmse_percentage:.2f}%\")"
   ]
  },
  {
   "cell_type": "code",
   "execution_count": null,
   "id": "82630342-e293-44ed-af30-f909992c2256",
   "metadata": {},
   "outputs": [],
   "source": []
  },
  {
   "cell_type": "code",
   "execution_count": null,
   "id": "78b6749a-9260-4885-8466-c4789c5d5d0d",
   "metadata": {},
   "outputs": [],
   "source": []
  }
 ],
 "metadata": {
  "kernelspec": {
   "display_name": "Python 3 (ipykernel)",
   "language": "python",
   "name": "python3"
  },
  "language_info": {
   "codemirror_mode": {
    "name": "ipython",
    "version": 3
   },
   "file_extension": ".py",
   "mimetype": "text/x-python",
   "name": "python",
   "nbconvert_exporter": "python",
   "pygments_lexer": "ipython3",
   "version": "3.12.4"
  }
 },
 "nbformat": 4,
 "nbformat_minor": 5
}
